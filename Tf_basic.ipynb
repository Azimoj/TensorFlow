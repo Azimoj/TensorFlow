{
  "nbformat": 4,
  "nbformat_minor": 0,
  "metadata": {
    "colab": {
      "provenance": [],
      "authorship_tag": "ABX9TyMwfFS/B8UUyknWsVrXtWs6",
      "include_colab_link": true
    },
    "kernelspec": {
      "name": "python3",
      "display_name": "Python 3"
    },
    "language_info": {
      "name": "python"
    }
  },
  "cells": [
    {
      "cell_type": "markdown",
      "metadata": {
        "id": "view-in-github",
        "colab_type": "text"
      },
      "source": [
        "<a href=\"https://colab.research.google.com/github/Azimoj/TensorFlow/blob/main/Tf_basic.ipynb\" target=\"_parent\"><img src=\"https://colab.research.google.com/assets/colab-badge.svg\" alt=\"Open In Colab\"/></a>"
      ]
    },
    {
      "cell_type": "code",
      "execution_count": 1,
      "metadata": {
        "id": "Hw1SSl-Kkrqi"
      },
      "outputs": [],
      "source": [
        "import tensorflow as tf"
      ]
    },
    {
      "cell_type": "code",
      "source": [
        "print(tf.__version__)"
      ],
      "metadata": {
        "colab": {
          "base_uri": "https://localhost:8080/"
        },
        "id": "Ed1nF0KPlD_I",
        "outputId": "5132927d-8196-4b8e-c8bc-4e22208f9784"
      },
      "execution_count": 2,
      "outputs": [
        {
          "output_type": "stream",
          "name": "stdout",
          "text": [
            "2.13.0\n"
          ]
        }
      ]
    },
    {
      "cell_type": "markdown",
      "source": [
        "https://www.youtube.com/watch?v=HPjBY1H-U4U&list=PLhhyoLH6IjfxVOdVC1P1L5z5azs0XjMsb&index=2"
      ],
      "metadata": {
        "id": "kB4Jtgz2lYtk"
      }
    },
    {
      "cell_type": "code",
      "source": [
        "# initialization of tensors\n",
        "x= tf.constant(4)\n",
        "x"
      ],
      "metadata": {
        "colab": {
          "base_uri": "https://localhost:8080/"
        },
        "id": "X_uvZBcnla0K",
        "outputId": "10bdc792-abc9-4a11-d2e4-c8a2bf728a6a"
      },
      "execution_count": 3,
      "outputs": [
        {
          "output_type": "execute_result",
          "data": {
            "text/plain": [
              "<tf.Tensor: shape=(), dtype=int32, numpy=4>"
            ]
          },
          "metadata": {},
          "execution_count": 3
        }
      ]
    },
    {
      "cell_type": "code",
      "source": [
        "x2= tf.constant(4,shape=(1,1), dtype=tf.float32)\n",
        "x2"
      ],
      "metadata": {
        "colab": {
          "base_uri": "https://localhost:8080/"
        },
        "id": "iwsy0k-nlbQj",
        "outputId": "d427dee0-28ca-47cd-b7db-39dacad9b712"
      },
      "execution_count": 6,
      "outputs": [
        {
          "output_type": "execute_result",
          "data": {
            "text/plain": [
              "<tf.Tensor: shape=(1, 1), dtype=float32, numpy=array([[4.]], dtype=float32)>"
            ]
          },
          "metadata": {},
          "execution_count": 6
        }
      ]
    },
    {
      "cell_type": "code",
      "source": [
        "x = tf.constant([[1, 2, 3], [4, 5, 6]], shape=(2, 3))\n",
        "print(x)"
      ],
      "metadata": {
        "colab": {
          "base_uri": "https://localhost:8080/"
        },
        "id": "J1vvsKhLntTi",
        "outputId": "3259bd3a-c679-479c-8a0e-1d5fd633f721"
      },
      "execution_count": 7,
      "outputs": [
        {
          "output_type": "stream",
          "name": "stdout",
          "text": [
            "tf.Tensor(\n",
            "[[1 2 3]\n",
            " [4 5 6]], shape=(2, 3), dtype=int32)\n"
          ]
        }
      ]
    },
    {
      "cell_type": "code",
      "source": [
        "x = tf.eye(3)\n",
        "print(x)\n"
      ],
      "metadata": {
        "colab": {
          "base_uri": "https://localhost:8080/"
        },
        "id": "icntMKFTntW-",
        "outputId": "7f2b209b-5cf6-467a-ddb9-c83a82be48d1"
      },
      "execution_count": 8,
      "outputs": [
        {
          "output_type": "stream",
          "name": "stdout",
          "text": [
            "tf.Tensor(\n",
            "[[1. 0. 0.]\n",
            " [0. 1. 0.]\n",
            " [0. 0. 1.]], shape=(3, 3), dtype=float32)\n"
          ]
        }
      ]
    },
    {
      "cell_type": "code",
      "source": [
        "x = tf.ones((4, 3))\n",
        "print(x)"
      ],
      "metadata": {
        "colab": {
          "base_uri": "https://localhost:8080/"
        },
        "id": "2YPawl55n4YS",
        "outputId": "d7d617fd-2390-4056-fc79-8345b768969c"
      },
      "execution_count": 9,
      "outputs": [
        {
          "output_type": "stream",
          "name": "stdout",
          "text": [
            "tf.Tensor(\n",
            "[[1. 1. 1.]\n",
            " [1. 1. 1.]\n",
            " [1. 1. 1.]\n",
            " [1. 1. 1.]], shape=(4, 3), dtype=float32)\n"
          ]
        }
      ]
    },
    {
      "cell_type": "code",
      "source": [
        "x = tf.zeros((3, 2, 5))\n",
        "print(x)"
      ],
      "metadata": {
        "colab": {
          "base_uri": "https://localhost:8080/"
        },
        "id": "XshsazpSn6PP",
        "outputId": "2ceff595-3385-4748-aa84-ab311e27a9eb"
      },
      "execution_count": 10,
      "outputs": [
        {
          "output_type": "stream",
          "name": "stdout",
          "text": [
            "tf.Tensor(\n",
            "[[[0. 0. 0. 0. 0.]\n",
            "  [0. 0. 0. 0. 0.]]\n",
            "\n",
            " [[0. 0. 0. 0. 0.]\n",
            "  [0. 0. 0. 0. 0.]]\n",
            "\n",
            " [[0. 0. 0. 0. 0.]\n",
            "  [0. 0. 0. 0. 0.]]], shape=(3, 2, 5), dtype=float32)\n"
          ]
        }
      ]
    },
    {
      "cell_type": "code",
      "source": [
        "x = tf.random.uniform((2, 2), minval=0, maxval=1)\n",
        "print(x)"
      ],
      "metadata": {
        "colab": {
          "base_uri": "https://localhost:8080/"
        },
        "id": "POS0577in6Rg",
        "outputId": "a10b2e7a-9fee-4558-9600-0fc28ebfdda0"
      },
      "execution_count": 11,
      "outputs": [
        {
          "output_type": "stream",
          "name": "stdout",
          "text": [
            "tf.Tensor(\n",
            "[[0.32635462 0.28474295]\n",
            " [0.3974589  0.27457666]], shape=(2, 2), dtype=float32)\n"
          ]
        }
      ]
    },
    {
      "cell_type": "code",
      "source": [
        "x = tf.random.normal((3, 3), mean=0, stddev=1)\n",
        "print(tf.cast(x, dtype=tf.float64))\n",
        "# tf.float (16,32,64), tf.int (8, 16, 32, 64), tf.bool"
      ],
      "metadata": {
        "colab": {
          "base_uri": "https://localhost:8080/"
        },
        "id": "5203-l7Mn6UF",
        "outputId": "4155206e-7837-45f5-e8f7-682f621c5619"
      },
      "execution_count": 12,
      "outputs": [
        {
          "output_type": "stream",
          "name": "stdout",
          "text": [
            "tf.Tensor(\n",
            "[[ 0.79813921  0.87488639  1.30329335]\n",
            " [ 0.2552776  -0.24284638 -0.76134551]\n",
            " [-0.34691864 -1.56415665  0.82802039]], shape=(3, 3), dtype=float64)\n"
          ]
        }
      ]
    },
    {
      "cell_type": "code",
      "source": [
        "x = tf.range(9)\n",
        "x = tf.range(start=0, limit=10, delta=2)\n",
        "print(x)"
      ],
      "metadata": {
        "colab": {
          "base_uri": "https://localhost:8080/"
        },
        "id": "5bIIyfgin6Xj",
        "outputId": "4a5dd38c-de03-4fd7-d1bc-ff88b3731f65"
      },
      "execution_count": 13,
      "outputs": [
        {
          "output_type": "stream",
          "name": "stdout",
          "text": [
            "tf.Tensor([0 2 4 6 8], shape=(5,), dtype=int32)\n"
          ]
        }
      ]
    },
    {
      "cell_type": "code",
      "source": [
        "# Math\n",
        "x = tf.constant([1, 2, 3])\n",
        "y = tf.constant([9, 8, 7])\n",
        "\n",
        "z = tf.add(x, y)\n",
        "z = x + y\n",
        "\n",
        "z = tf.subtract(x, y)\n",
        "z = x - y\n",
        "\n",
        "z = tf.divide(x, y)\n",
        "z = x / y\n",
        "\n",
        "z = tf.multiply(x, y)\n",
        "z = x * y\n",
        "\n",
        "z = tf.tensordot(x, y, axes=1)\n",
        "\n",
        "z = x ** 5\n",
        "\n"
      ],
      "metadata": {
        "id": "Hi1BzWfblbTR"
      },
      "execution_count": null,
      "outputs": []
    },
    {
      "cell_type": "code",
      "source": [
        "x = tf.random.normal((2, 3))\n",
        "y = tf.random.normal((3, 2))\n",
        "z = tf.matmul(x, y)"
      ],
      "metadata": {
        "id": "bCwE9Ep5lbWo"
      },
      "execution_count": 15,
      "outputs": []
    },
    {
      "cell_type": "code",
      "source": [
        "x"
      ],
      "metadata": {
        "colab": {
          "base_uri": "https://localhost:8080/"
        },
        "id": "wxkAk2wJs5CV",
        "outputId": "2ff53f05-8012-43fc-b6a3-2a6f481a8cfc"
      },
      "execution_count": 16,
      "outputs": [
        {
          "output_type": "execute_result",
          "data": {
            "text/plain": [
              "<tf.Tensor: shape=(2, 3), dtype=float32, numpy=\n",
              "array([[-1.8499169 , -1.2494192 ,  1.4972056 ],\n",
              "       [ 0.00362328, -0.4224678 , -0.0707971 ]], dtype=float32)>"
            ]
          },
          "metadata": {},
          "execution_count": 16
        }
      ]
    },
    {
      "cell_type": "code",
      "source": [
        "y"
      ],
      "metadata": {
        "colab": {
          "base_uri": "https://localhost:8080/"
        },
        "id": "sPsQS9rNtEr2",
        "outputId": "faa8b8c4-52a5-4ed8-b5c6-eb56724fc0a4"
      },
      "execution_count": 17,
      "outputs": [
        {
          "output_type": "execute_result",
          "data": {
            "text/plain": [
              "<tf.Tensor: shape=(3, 2), dtype=float32, numpy=\n",
              "array([[-1.0047814 ,  0.18873787],\n",
              "       [ 0.9050158 ,  2.8888524 ],\n",
              "       [ 0.07886289,  0.73140156]], dtype=float32)>"
            ]
          },
          "metadata": {},
          "execution_count": 17
        }
      ]
    },
    {
      "cell_type": "code",
      "source": [
        "z"
      ],
      "metadata": {
        "colab": {
          "base_uri": "https://localhost:8080/"
        },
        "id": "akuLk6fGtEvB",
        "outputId": "69682577-e55d-49ad-f979-0ad38da81909"
      },
      "execution_count": 18,
      "outputs": [
        {
          "output_type": "execute_result",
          "data": {
            "text/plain": [
              "<tf.Tensor: shape=(2, 2), dtype=float32, numpy=\n",
              "array([[ 0.84609175, -2.8634787 ],\n",
              "       [-0.3915639 , -1.2715442 ]], dtype=float32)>"
            ]
          },
          "metadata": {},
          "execution_count": 18
        }
      ]
    },
    {
      "cell_type": "code",
      "source": [
        "x = tf.random.normal((2, 3))\n",
        "y = tf.random.normal((3, 2))\n",
        "z = tf.matmul(x, y)\n",
        "z = x @ y\n",
        "\n",
        "x = tf.random.normal((2, 2))\n",
        "\n",
        "# Indexing\n",
        "x = tf.constant([0, 1, 1, 2, 3, 1, 2, 3])\n",
        "print(x[:])\n",
        "print(x[1:])\n",
        "print(x[1:3])\n",
        "print(x[::2])\n",
        "print(x[::-1])\n",
        "\n",
        "indices = tf.constant([0, 3])\n",
        "x_indices = tf.gather(x, indices)\n",
        "\n",
        "x = tf.constant([[1, 2], [3, 4], [5, 6]])\n",
        "\n",
        "print(x[0, :])\n",
        "print(x[0:2, :])\n",
        "\n",
        "# Reshaping\n",
        "x = tf.range(9)\n",
        "\n",
        "x = tf.reshape(x, (3, 3))\n",
        "\n",
        "x = tf.transpose(x, perm=[1, 0])"
      ],
      "metadata": {
        "id": "cVZ6XuKms5FI"
      },
      "execution_count": null,
      "outputs": []
    },
    {
      "cell_type": "code",
      "source": [],
      "metadata": {
        "id": "iG0jHWY-s5Ia"
      },
      "execution_count": null,
      "outputs": []
    },
    {
      "cell_type": "code",
      "source": [],
      "metadata": {
        "id": "_TZU98m0s5Mm"
      },
      "execution_count": null,
      "outputs": []
    }
  ]
}